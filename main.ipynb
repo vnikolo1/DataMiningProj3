{
 "cells": [
  {
   "cell_type": "markdown",
   "id": "5b10f14e",
   "metadata": {},
   "source": [
    "# Project 3 - Regression"
   ]
  },
  {
   "cell_type": "markdown",
   "id": "7752f8ad",
   "metadata": {},
   "source": [
    "In the US, driving is an everyday, inescapable part of life. Without a car, anyone who doesn't live in or near the heart of a city struggles to exist and thrive within this country. As someone who grew up in Europe, this got me thinking about cars, being both someone who drives and interested in automobiles to begin with. \n",
    "\n",
    "Now, when I say interested, I was mostly curious about the environmental effects of different cars and how efficient these great, hulking beasts that make up the backbone of America are. Pushing past that, I got to wondering if there was a way to find out which parts of a car make it more or less efficient, and if it is possible to predict exactly how efficient a vehicle can be based on its different parts."
   ]
  },
  {
   "cell_type": "markdown",
   "id": "cd3ad204",
   "metadata": {},
   "source": [
    "Introduction:\n",
    "\n",
    "The Dataset I will be using is one that tracks the miles per gallon of different cars, from different years and companies. The dataset itself tracks 8 variables per entry, those being mpg, number of cylinders, engine displacement, how much horsepower the engine produces, vehicle weight, model year, country of origin (numerical value), and lastly, the name of each vehicle tracked.\n",
    "\n",
    "First off, in terms of pre-processing, we'll be doing a bit of cutting down on the dataset so we have less variables to keep track of. Since we are trying to find out how the different parts of a car make it more or less efficient, the names of each vehicle don't really matter to us, and neither does the country of origin, allowing us to create a subset of just the numerical values we need."
   ]
  },
  {
   "cell_type": "code",
   "execution_count": 11,
   "id": "e43b168d",
   "metadata": {},
   "outputs": [
    {
     "data": {
      "text/html": [
       "<div>\n",
       "<style scoped>\n",
       "    .dataframe tbody tr th:only-of-type {\n",
       "        vertical-align: middle;\n",
       "    }\n",
       "\n",
       "    .dataframe tbody tr th {\n",
       "        vertical-align: top;\n",
       "    }\n",
       "\n",
       "    .dataframe thead th {\n",
       "        text-align: right;\n",
       "    }\n",
       "</style>\n",
       "<table border=\"1\" class=\"dataframe\">\n",
       "  <thead>\n",
       "    <tr style=\"text-align: right;\">\n",
       "      <th></th>\n",
       "      <th>mpg</th>\n",
       "      <th>cylinders</th>\n",
       "      <th>displacement</th>\n",
       "      <th>horsepower</th>\n",
       "      <th>weight</th>\n",
       "      <th>acceleration</th>\n",
       "      <th>model year</th>\n",
       "      <th>origin</th>\n",
       "      <th>car name</th>\n",
       "    </tr>\n",
       "  </thead>\n",
       "  <tbody>\n",
       "    <tr>\n",
       "      <th>0</th>\n",
       "      <td>18.0</td>\n",
       "      <td>8</td>\n",
       "      <td>307.0</td>\n",
       "      <td>130</td>\n",
       "      <td>3504</td>\n",
       "      <td>12.0</td>\n",
       "      <td>70</td>\n",
       "      <td>1</td>\n",
       "      <td>chevrolet chevelle malibu</td>\n",
       "    </tr>\n",
       "    <tr>\n",
       "      <th>1</th>\n",
       "      <td>15.0</td>\n",
       "      <td>8</td>\n",
       "      <td>350.0</td>\n",
       "      <td>165</td>\n",
       "      <td>3693</td>\n",
       "      <td>11.5</td>\n",
       "      <td>70</td>\n",
       "      <td>1</td>\n",
       "      <td>buick skylark 320</td>\n",
       "    </tr>\n",
       "    <tr>\n",
       "      <th>2</th>\n",
       "      <td>18.0</td>\n",
       "      <td>8</td>\n",
       "      <td>318.0</td>\n",
       "      <td>150</td>\n",
       "      <td>3436</td>\n",
       "      <td>11.0</td>\n",
       "      <td>70</td>\n",
       "      <td>1</td>\n",
       "      <td>plymouth satellite</td>\n",
       "    </tr>\n",
       "    <tr>\n",
       "      <th>3</th>\n",
       "      <td>16.0</td>\n",
       "      <td>8</td>\n",
       "      <td>304.0</td>\n",
       "      <td>150</td>\n",
       "      <td>3433</td>\n",
       "      <td>12.0</td>\n",
       "      <td>70</td>\n",
       "      <td>1</td>\n",
       "      <td>amc rebel sst</td>\n",
       "    </tr>\n",
       "    <tr>\n",
       "      <th>4</th>\n",
       "      <td>17.0</td>\n",
       "      <td>8</td>\n",
       "      <td>302.0</td>\n",
       "      <td>140</td>\n",
       "      <td>3449</td>\n",
       "      <td>10.5</td>\n",
       "      <td>70</td>\n",
       "      <td>1</td>\n",
       "      <td>ford torino</td>\n",
       "    </tr>\n",
       "  </tbody>\n",
       "</table>\n",
       "</div>"
      ],
      "text/plain": [
       "    mpg  cylinders  displacement horsepower  weight  acceleration  model year  \\\n",
       "0  18.0          8         307.0        130    3504          12.0          70   \n",
       "1  15.0          8         350.0        165    3693          11.5          70   \n",
       "2  18.0          8         318.0        150    3436          11.0          70   \n",
       "3  16.0          8         304.0        150    3433          12.0          70   \n",
       "4  17.0          8         302.0        140    3449          10.5          70   \n",
       "\n",
       "   origin                   car name  \n",
       "0       1  chevrolet chevelle malibu  \n",
       "1       1          buick skylark 320  \n",
       "2       1         plymouth satellite  \n",
       "3       1              amc rebel sst  \n",
       "4       1                ford torino  "
      ]
     },
     "execution_count": 11,
     "metadata": {},
     "output_type": "execute_result"
    }
   ],
   "source": [
    "import pandas as pd\n",
    "import matplotlib.pyplot as plt\n",
    "import numpy as np\n",
    "import seaborn as sns\n",
    "\n",
    "# Turn csv file into data frame\n",
    "auto_mpg = pd.read_csv(\"auto-mpg.csv\")\n",
    "auto_mpg.head()"
   ]
  },
  {
   "cell_type": "code",
   "execution_count": 12,
   "id": "99b3fef8",
   "metadata": {},
   "outputs": [
    {
     "name": "stderr",
     "output_type": "stream",
     "text": [
      "C:\\Users\\valni\\AppData\\Local\\Temp\\ipykernel_17936\\1811848719.py:5: SettingWithCopyWarning: \n",
      "A value is trying to be set on a copy of a slice from a DataFrame\n",
      "\n",
      "See the caveats in the documentation: https://pandas.pydata.org/pandas-docs/stable/user_guide/indexing.html#returning-a-view-versus-a-copy\n",
      "  numerics.replace('?', np.nan, inplace=True)\n"
     ]
    }
   ],
   "source": [
    "numerics = auto_mpg[[\"mpg\", \"cylinders\", \"displacement\", \"horsepower\", \"weight\", \"acceleration\", \"model year\"]]\n",
    "numerics.head()\n",
    "\n",
    "# Replacing filler values with NaN, then filling the NaN values with medians.\n",
    "numerics.replace('?', np.nan, inplace=True)\n",
    "\n",
    "numerics = numerics.apply(pd.to_numeric)\n",
    "\n",
    "cols = numerics.select_dtypes(include=[np.number]).columns\n",
    "\n",
    "numerics[cols] = numerics[cols].fillna(numerics[cols].median())"
   ]
  },
  {
   "cell_type": "markdown",
   "id": "a42f47b1",
   "metadata": {},
   "source": [
    "A little bit more cleaning was done here, as after a closer look I found there were some entries in the dataset that had filler values set as a question mark (?), so I had to replace those with NaN values, then replace said NaN values with the median of the values of whatever column the question marks were. This way, I manage to not sway the data while achieving the results I want."
   ]
  },
  {
   "cell_type": "code",
   "execution_count": 13,
   "id": "daf099e2",
   "metadata": {},
   "outputs": [],
   "source": [
    "from sklearn.model_selection import train_test_split\n",
    "from sklearn.ensemble import RandomForestRegressor\n",
    "from sklearn.metrics import mean_absolute_error, mean_squared_error, r2_score\n",
    "\n",
    "X = numerics.drop('mpg', axis=1)\n",
    "y = numerics[\"mpg\"]\n",
    "\n",
    "X_train, X_test, y_train, y_test = train_test_split(X, y, test_size=0.2, random_state=42)\n",
    "\n",
    "rf = RandomForestRegressor(n_estimators=200, random_state=42, n_jobs=-1, max_depth=None)\n",
    "rf.fit(X_train, y_train)\n",
    "\n",
    "y_pred = rf.predict(X_test)"
   ]
  },
  {
   "cell_type": "markdown",
   "id": "5717714d",
   "metadata": {},
   "source": [
    "The next part I focused on was getting a regressor model up and running, starting with a simple Random Forest, which allows us to factor in all 5 variable we want to focus on and target miles per gallon as our predictor value, and then from there we can figure out how accurate these variables are at predicting mpg, and further on we can use those to find out which feature has the most relevance and weight when it comes to influencing mpg."
   ]
  },
  {
   "cell_type": "code",
   "execution_count": 14,
   "id": "10e9a688",
   "metadata": {},
   "outputs": [
    {
     "name": "stdout",
     "output_type": "stream",
     "text": [
      "MAE : 1.65\n",
      "RMSE : 2.24\n",
      "R^2 : 0.907\n"
     ]
    }
   ],
   "source": [
    "mae = mean_absolute_error(y_test, y_pred)\n",
    "rmse = np.sqrt(mean_squared_error(y_test, y_pred))\n",
    "r2 = r2_score(y_test, y_pred)\n",
    "\n",
    "print(f\"MAE : {mae:.2f}\")\n",
    "print(f\"RMSE : {rmse:.2f}\")\n",
    "print(f\"R^2 : {r2:.3f}\")"
   ]
  },
  {
   "cell_type": "code",
   "execution_count": 15,
   "id": "e274037c",
   "metadata": {},
   "outputs": [
    {
     "data": {
      "image/png": "[encoded data removed]",
      "text/plain": [
       "<Figure size 800x400 with 2 Axes>"
      ]
     },
     "metadata": {},
     "output_type": "display_data"
    }
   ],
   "source": [
    "importances = rf.feature_importances_\n",
    "features = X.columns\n",
    "\n",
    "feat_imp_df = pd.DataFrame({'Feature': features, 'Importance': importances})\n",
    "feat_imp_df = feat_imp_df.sort_values(by='Importance', ascending=False)\n",
    "\n",
    "plt.figure(figsize=(8,4))\n",
    "sns.heatmap(feat_imp_df.set_index('Feature').T, annot=True, cmap='YlOrRd')\n",
    "plt.title(\"Feature Importance Heatmap\")\n",
    "plt.show()"
   ]
  }
 ],
 "metadata": {
  "kernelspec": {
   "display_name": "Python 3",
   "language": "python",
   "name": "python3"
  },
  "language_info": {
   "codemirror_mode": {
    "name": "ipython",
    "version": 3
   },
   "file_extension": ".py",
   "mimetype": "text/x-python",
   "name": "python",
   "nbconvert_exporter": "python",
   "pygments_lexer": "ipython3",
   "version": "3.13.1"
  }
 },
 "nbformat": 4,
 "nbformat_minor": 5
}
