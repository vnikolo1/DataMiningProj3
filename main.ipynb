{
 "cells": [
  {
   "cell_type": "markdown",
   "id": "5b10f14e",
   "metadata": {},
   "source": [
    "# Project 3 - Regression"
   ]
  },
  {
   "cell_type": "markdown",
   "id": "7752f8ad",
   "metadata": {},
   "source": [
    "In the US, driving is an everyday, inescapable part of life. Without a car, anyone who doesn't live in or near the heart of a city struggles to exist and thrive within this country. As someone who grew up in Europe, this got me thinking about cars, being both someone who drives and interested in automobiles to begin with. \n",
    "\n",
    "Now, when I say interested, I was mostly curious about the environmental effects of different cars and how efficient these great, hulking beasts that make up the backbone of America are. Pushing past that, I got to wondering if there was a way to find out which parts of a car make it more or less efficient, and if it is possible to predict exactly how efficient a vehicle can be based on its different parts."
   ]
  },
  {
   "cell_type": "markdown",
   "id": "cd3ad204",
   "metadata": {},
   "source": [
    "Introduction:\n",
    "\n",
    "The Dataset I will be using is one that tracks the miles per gallon of different cars, from different years and companies. The dataset itself tracks 8 variables per entry, those being mpg, number of cylinders, engine displacement, how much horsepower the engine produces, vehicle weight, model year, country of origin (numerical value), and lastly, the name of each vehicle tracked.\n",
    "\n",
    "First off, in terms of pre-processing, we'll be doing a bit of cutting down on the dataset so we have less variables to keep track of. Since we are trying to find out how the different parts of a car make it more or less efficient, the names of each vehicle don't really matter to us, and neither does the country of origin, allowing us to create a subset of just the numerical values we need.\n",
    "\n",
    "Considering we are using regression models to experiment here, we must dive into a vital question: What is regression?\n",
    "Regression is a type of learning used to predict continous, numerical values. In this case, since we are trying to predict how efficient a car is (miles per gallon), regression is the perfect way to figure out which features of cars are important to affecting mpg and predicting what to focus on for real world application."
   ]
  },
  {
   "cell_type": "code",
   "execution_count": 2,
   "id": "e43b168d",
   "metadata": {},
   "outputs": [
    {
     "data": {
      "text/html": [
       "<div>\n",
       "<style scoped>\n",
       "    .dataframe tbody tr th:only-of-type {\n",
       "        vertical-align: middle;\n",
       "    }\n",
       "\n",
       "    .dataframe tbody tr th {\n",
       "        vertical-align: top;\n",
       "    }\n",
       "\n",
       "    .dataframe thead th {\n",
       "        text-align: right;\n",
       "    }\n",
       "</style>\n",
       "<table border=\"1\" class=\"dataframe\">\n",
       "  <thead>\n",
       "    <tr style=\"text-align: right;\">\n",
       "      <th></th>\n",
       "      <th>mpg</th>\n",
       "      <th>cylinders</th>\n",
       "      <th>displacement</th>\n",
       "      <th>horsepower</th>\n",
       "      <th>weight</th>\n",
       "      <th>acceleration</th>\n",
       "      <th>model year</th>\n",
       "      <th>origin</th>\n",
       "      <th>car name</th>\n",
       "    </tr>\n",
       "  </thead>\n",
       "  <tbody>\n",
       "    <tr>\n",
       "      <th>0</th>\n",
       "      <td>18.0</td>\n",
       "      <td>8</td>\n",
       "      <td>307.0</td>\n",
       "      <td>130</td>\n",
       "      <td>3504</td>\n",
       "      <td>12.0</td>\n",
       "      <td>70</td>\n",
       "      <td>1</td>\n",
       "      <td>chevrolet chevelle malibu</td>\n",
       "    </tr>\n",
       "    <tr>\n",
       "      <th>1</th>\n",
       "      <td>15.0</td>\n",
       "      <td>8</td>\n",
       "      <td>350.0</td>\n",
       "      <td>165</td>\n",
       "      <td>3693</td>\n",
       "      <td>11.5</td>\n",
       "      <td>70</td>\n",
       "      <td>1</td>\n",
       "      <td>buick skylark 320</td>\n",
       "    </tr>\n",
       "    <tr>\n",
       "      <th>2</th>\n",
       "      <td>18.0</td>\n",
       "      <td>8</td>\n",
       "      <td>318.0</td>\n",
       "      <td>150</td>\n",
       "      <td>3436</td>\n",
       "      <td>11.0</td>\n",
       "      <td>70</td>\n",
       "      <td>1</td>\n",
       "      <td>plymouth satellite</td>\n",
       "    </tr>\n",
       "    <tr>\n",
       "      <th>3</th>\n",
       "      <td>16.0</td>\n",
       "      <td>8</td>\n",
       "      <td>304.0</td>\n",
       "      <td>150</td>\n",
       "      <td>3433</td>\n",
       "      <td>12.0</td>\n",
       "      <td>70</td>\n",
       "      <td>1</td>\n",
       "      <td>amc rebel sst</td>\n",
       "    </tr>\n",
       "    <tr>\n",
       "      <th>4</th>\n",
       "      <td>17.0</td>\n",
       "      <td>8</td>\n",
       "      <td>302.0</td>\n",
       "      <td>140</td>\n",
       "      <td>3449</td>\n",
       "      <td>10.5</td>\n",
       "      <td>70</td>\n",
       "      <td>1</td>\n",
       "      <td>ford torino</td>\n",
       "    </tr>\n",
       "  </tbody>\n",
       "</table>\n",
       "</div>"
      ],
      "text/plain": [
       "    mpg  cylinders  displacement horsepower  weight  acceleration  model year  \\\n",
       "0  18.0          8         307.0        130    3504          12.0          70   \n",
       "1  15.0          8         350.0        165    3693          11.5          70   \n",
       "2  18.0          8         318.0        150    3436          11.0          70   \n",
       "3  16.0          8         304.0        150    3433          12.0          70   \n",
       "4  17.0          8         302.0        140    3449          10.5          70   \n",
       "\n",
       "   origin                   car name  \n",
       "0       1  chevrolet chevelle malibu  \n",
       "1       1          buick skylark 320  \n",
       "2       1         plymouth satellite  \n",
       "3       1              amc rebel sst  \n",
       "4       1                ford torino  "
      ]
     },
     "execution_count": 2,
     "metadata": {},
     "output_type": "execute_result"
    }
   ],
   "source": [
    "import pandas as pd\n",
    "import matplotlib.pyplot as plt\n",
    "import numpy as np\n",
    "import seaborn as sns\n",
    "\n",
    "# Turn csv file into data frame\n",
    "auto_mpg = pd.read_csv(\"auto-mpg.csv\")\n",
    "auto_mpg.head()"
   ]
  },
  {
   "cell_type": "code",
   "execution_count": 3,
   "id": "99b3fef8",
   "metadata": {},
   "outputs": [
    {
     "name": "stderr",
     "output_type": "stream",
     "text": [
      "C:\\Users\\valni\\AppData\\Local\\Temp\\ipykernel_76588\\1811848719.py:5: SettingWithCopyWarning: \n",
      "A value is trying to be set on a copy of a slice from a DataFrame\n",
      "\n",
      "See the caveats in the documentation: https://pandas.pydata.org/pandas-docs/stable/user_guide/indexing.html#returning-a-view-versus-a-copy\n",
      "  numerics.replace('?', np.nan, inplace=True)\n"
     ]
    }
   ],
   "source": [
    "numerics = auto_mpg[[\"mpg\", \"cylinders\", \"displacement\", \"horsepower\", \"weight\", \"acceleration\", \"model year\"]]\n",
    "numerics.head()\n",
    "\n",
    "# Replacing filler values with NaN, then filling the NaN values with medians.\n",
    "numerics.replace('?', np.nan, inplace=True)\n",
    "\n",
    "numerics = numerics.apply(pd.to_numeric)\n",
    "\n",
    "cols = numerics.select_dtypes(include=[np.number]).columns\n",
    "\n",
    "numerics[cols] = numerics[cols].fillna(numerics[cols].median())"
   ]
  },
  {
   "cell_type": "markdown",
   "id": "a42f47b1",
   "metadata": {},
   "source": [
    "A little bit more cleaning was done here, as after a closer look I found there were some entries in the dataset that had filler values set as a question mark (?), so I had to replace those with NaN values, then replace said NaN values with the median of the values of whatever column the question marks were. This way, I manage to not sway the data while achieving the results I want.\n",
    "\n",
    "This closer look also helped me understand my data a bit better, and see some basic patterns that are more globally relevant and have to do with external factors than individual things on a car. For example, newer cars are generally a bit better in terms of performance and efficiency, but that has more to do with the developing technology of the time and the constant innovation, especially during the cold war which is when our dataset has taken vehicle data from, ranging from the mid 70s to the 80s for car models."
   ]
  },
  {
   "cell_type": "code",
   "execution_count": 4,
   "id": "daf099e2",
   "metadata": {},
   "outputs": [],
   "source": [
    "from sklearn.model_selection import train_test_split\n",
    "from sklearn.linear_model import LinearRegression\n",
    "from sklearn.ensemble import RandomForestRegressor\n",
    "from sklearn.metrics import mean_absolute_error, mean_squared_error, r2_score\n",
    "\n",
    "X = numerics.drop('mpg', axis=1)\n",
    "y = numerics[\"mpg\"]\n",
    "\n",
    "X_train, X_test, y_train, y_test = train_test_split(X, y, test_size=0.2, random_state=42)\n",
    "\n",
    "linearMod = LinearRegression()\n",
    "\n",
    "linearMod.fit(X_train, y_train)\n",
    "\n",
    "y_pred = linearMod.predict(X_test)"
   ]
  },
  {
   "cell_type": "markdown",
   "id": "5717714d",
   "metadata": {},
   "source": [
    "The next part I focused on was getting a regressor model up and running, starting with a simple Linear Regression model, which tries to find linear relationships between each feature and the mpg of each car. This model also reduces multicollinearity, which shows how important each feature is individually to the mpg. Moving forward, we have some of the evaluations for the model, and some visualizations about which features are the most vital in this model."
   ]
  },
  {
   "cell_type": "code",
   "execution_count": 5,
   "id": "10e9a688",
   "metadata": {},
   "outputs": [
    {
     "name": "stdout",
     "output_type": "stream",
     "text": [
      "MAE : 2.47\n",
      "RMSE : 3.07\n",
      "R^2 : 0.824\n"
     ]
    }
   ],
   "source": [
    "mae = mean_absolute_error(y_test, y_pred)\n",
    "rmse = np.sqrt(mean_squared_error(y_test, y_pred))\n",
    "r2 = r2_score(y_test, y_pred)\n",
    "\n",
    "print(f\"MAE : {mae:.2f}\")\n",
    "print(f\"RMSE : {rmse:.2f}\")\n",
    "print(f\"R^2 : {r2:.3f}\")"
   ]
  },
  {
   "cell_type": "code",
   "execution_count": 6,
   "id": "e274037c",
   "metadata": {},
   "outputs": [
    {
     "data": {
      "image/png": "[encoded data removed]",
      "text/plain": [
       "<Figure size 800x400 with 2 Axes>"
      ]
     },
     "metadata": {},
     "output_type": "display_data"
    }
   ],
   "source": [
    "importances = linearMod.coef_\n",
    "features = X.columns\n",
    "\n",
    "feat_imp_df = pd.DataFrame({'Feature': features, 'Importance': importances})\n",
    "feat_imp_df = feat_imp_df.sort_values(by='Importance', ascending=False)\n",
    "\n",
    "plt.figure(figsize=(8,4))\n",
    "sns.heatmap(feat_imp_df.set_index('Feature').T, annot=True, cmap='YlOrRd')\n",
    "plt.title(\"Feature Importance Heatmap\")\n",
    "plt.show()"
   ]
  },
  {
   "cell_type": "markdown",
   "id": "34562be3",
   "metadata": {},
   "source": [
    "Our evaluations here show good signs! A high R^2 score is a very good thing to see, showing that our model is doing a great job of explaining the variance when it comes to mpg. Our MAE and RMSE numbers are also looking decent! RMSE showing how our predictions are compared to the average mpg, usually off by about 3 MPG, and MAE is slightly lower, as it should be since Mean Absolute Error isn't quite as affected by outliers, which are not bad signs at all for our model! All things considered, modern MPG range from 19 to above 40 in certain cars, our model is doing a fantastic job."
   ]
  },
  {
   "cell_type": "markdown",
   "id": "e92ab69b",
   "metadata": {},
   "source": [
    "Moving forward, I'd decided to try a different model to experiment with, and I wanted to see if it was telling us something different. For this, I decided on a simple Random Forest model, since we are dealing with multiple features, and wanted to see which is the more accurate in terms of predicting mpg, as well as how the models differ."
   ]
  },
  {
   "cell_type": "code",
   "execution_count": 7,
   "id": "b09ceca9",
   "metadata": {},
   "outputs": [],
   "source": [
    "# Imported the Random Forest above, with the LinearRegression, because I jumped the gun on the forest.\n",
    "#Using same train test split as before\n",
    "\n",
    "rf = RandomForestRegressor(n_estimators=200, random_state=42, n_jobs=-1, max_depth=None)\n",
    "rf.fit(X_train, y_train)\n",
    "\n",
    "y_pred_rf = rf.predict(X_test)"
   ]
  },
  {
   "cell_type": "code",
   "execution_count": 8,
   "id": "197101b4",
   "metadata": {},
   "outputs": [
    {
     "name": "stdout",
     "output_type": "stream",
     "text": [
      "MAE : 1.65\n",
      "RMSE : 2.24\n",
      "R^2 : 0.907\n"
     ]
    }
   ],
   "source": [
    "mae = mean_absolute_error(y_test, y_pred_rf)\n",
    "rmse = np.sqrt(mean_squared_error(y_test, y_pred_rf))\n",
    "r2 = r2_score(y_test, y_pred_rf)\n",
    "\n",
    "print(f\"MAE : {mae:.2f}\")\n",
    "print(f\"RMSE : {rmse:.2f}\")\n",
    "print(f\"R^2 : {r2:.3f}\")"
   ]
  },
  {
   "cell_type": "markdown",
   "id": "a2fff5aa",
   "metadata": {},
   "source": [
    "As mentioned above, since we have multiple features, I originally assumed a RF model would do a bit of a better job of predicting values for this experiment, and it seems my hypothesis has turned out correct! As we can see, the R^2 is higher by about 5%, showing the RF model is better at predicting values, and the variation is much smaller than the Linear Regression model, with RMSE and MAE scores both being about 8 tenths lower on the Random Forest."
   ]
  },
  {
   "cell_type": "markdown",
   "id": "ddb918e0",
   "metadata": {},
   "source": [
    "Moving forward, I decided on one last experiment, this time changing up the target variable. I wanted to see if we could nail which year a given car is made in, based off of the car's features, so the only real change we'd be making here is switching out our y variable for one of the x variables. While pretty simple on the surface, it does take some reworking to get this experimented sorted in the pre-processing, in terms of assigning X columns and a target variable, following which we will use a Random Forest regressor (due to its higher accuracy) to see how well we can predict when a car is made."
   ]
  },
  {
   "cell_type": "code",
   "execution_count": 10,
   "id": "f9847b7e",
   "metadata": {},
   "outputs": [],
   "source": [
    "# As discussed above, some of the steps require reworking variable positions, and that includes redoing\n",
    "# the train test split as a whole.\n",
    "\n",
    "# To not mess with legibility, we will be adding a '3' to the variable names, to distinguish these as just\n",
    "# for this last experiment.\n",
    "\n",
    "X3 = numerics.drop('model year', axis=1)\n",
    "y3 = numerics[\"model year\"]\n",
    "\n",
    "X_train_3, X_test_3, y_train_3, y_test_3 = train_test_split(X3, y3, test_size=0.2, random_state=42)\n",
    "\n",
    "rf3 = RandomForestRegressor(n_estimators=200, random_state=42, n_jobs=-1, max_depth=None)\n",
    "rf3.fit(X_train_3, y_train_3)\n",
    "\n",
    "y_pred_3 = rf3.predict(X_test_3)"
   ]
  },
  {
   "cell_type": "code",
   "execution_count": 11,
   "id": "a5b3ab2a",
   "metadata": {},
   "outputs": [
    {
     "name": "stdout",
     "output_type": "stream",
     "text": [
      "MAE : 1.95\n",
      "RMSE : 2.45\n",
      "R^2 : 0.630\n"
     ]
    }
   ],
   "source": [
    "mae3 = mean_absolute_error(y_test_3, y_pred_3)\n",
    "rmse3 = np.sqrt(mean_squared_error(y_test_3, y_pred_3))\n",
    "r2_3 = r2_score(y_test_3, y_pred_3)\n",
    "\n",
    "print(f\"MAE : {mae3:.2f}\")\n",
    "print(f\"RMSE : {rmse3:.2f}\")\n",
    "print(f\"R^2 : {r2_3:.3f}\")"
   ]
  },
  {
   "cell_type": "markdown",
   "id": "2c48130f",
   "metadata": {},
   "source": [
    "Here we see a start difference, with a large drop in R^2 scored, showing that our model is not as adept at predicting model year based on the rest of the vehicle's features. This has no real world impact, considering it would be more akin to a trivia game question, but was an interesting experiment to try out nonetheless!"
   ]
  },
  {
   "cell_type": "markdown",
   "id": "15e1e0b2",
   "metadata": {},
   "source": [
    "All that being said, why does any of this matter??\n",
    "\n",
    "I would argue that these models and experiments are quite important in telling us how efficient our vehicles are, and play a large part of making cars both more efficient and higher-performing, which is a massive boon to innovation as a whole, since a lot of technology that goes in cars is used in different everyday gadgets. Alongside that, being able to figure out what is causing cars to be more or less efficient goes a long way in making our environmental impact on the planet less harmful, and I can think of no nobler cause than the preservation of the world around us.\n",
    "\n",
    "On a similar note, car companies know that people want to take care of and preserve the planet, and models like this are what allow them to make better cars, and therefore make more money from sales while including higher customer base retention. After all, a happy customer is a returning customer."
   ]
  },
  {
   "cell_type": "markdown",
   "id": "0a2c7243",
   "metadata": {},
   "source": [
    "## Conclusion:"
   ]
  },
  {
   "cell_type": "markdown",
   "id": "81ffe95f",
   "metadata": {},
   "source": [
    "It is very possible and very helpful to predict and find out what makes cars efficient, and using models like these to curb the harmful impacts that cars can have on our environment goes a long way in both innovation and preservation of our planet. Regressor models can be used for many similar cases, and regularly are, showing that we can and should strive to improve upon what exists to the best of our abilities, be it cars or something entirely different."
   ]
  },
  {
   "cell_type": "markdown",
   "id": "55db9736",
   "metadata": {},
   "source": [
    "References:\n",
    "\n",
    "https://www.geeksforgeeks.org/machine-learning/dataset-for-linear-regression/\n",
    "\n",
    "https://www.geeksforgeeks.org/machine-learning/random-forest-regression-in-python/\n",
    "\n",
    "https://scikit-learn.org/stable/modules/generated/sklearn.linear_model.LinearRegression.html\n",
    "\n",
    "A bit of help from chatgpt as well."
   ]
  }
 ],
 "metadata": {
  "kernelspec": {
   "display_name": "Python 3",
   "language": "python",
   "name": "python3"
  },
  "language_info": {
   "codemirror_mode": {
    "name": "ipython",
    "version": 3
   },
   "file_extension": ".py",
   "mimetype": "text/x-python",
   "name": "python",
   "nbconvert_exporter": "python",
   "pygments_lexer": "ipython3",
   "version": "3.13.1"
  }
 },
 "nbformat": 4,
 "nbformat_minor": 5
}
